{
 "cells": [
  {
   "cell_type": "code",
   "execution_count": 8,
   "metadata": {},
   "outputs": [],
   "source": [
    "from selenium import webdriver"
   ]
  },
  {
   "cell_type": "code",
   "execution_count": 9,
   "metadata": {},
   "outputs": [],
   "source": [
    "import boto3"
   ]
  },
  {
   "cell_type": "code",
   "execution_count": 10,
   "metadata": {},
   "outputs": [],
   "source": [
    "from selenium.webdriver.chrome.options import Options"
   ]
  },
  {
   "cell_type": "code",
   "execution_count": 11,
   "metadata": {},
   "outputs": [],
   "source": [
    "options = Options()\n",
    "options.headless = True"
   ]
  },
  {
   "cell_type": "code",
   "execution_count": 12,
   "metadata": {},
   "outputs": [],
   "source": [
    "from selenium.common.exceptions import NoSuchElementException, \\\n",
    "    WebDriverException"
   ]
  },
  {
   "cell_type": "code",
   "execution_count": 13,
   "metadata": {},
   "outputs": [],
   "source": [
    "import pandas as pd\n",
    "import time\n",
    "import datetime"
   ]
  },
  {
   "cell_type": "code",
   "execution_count": 14,
   "metadata": {
    "collapsed": false,
    "jupyter": {
     "outputs_hidden": false
    }
   },
   "outputs": [],
   "source": [
    "driver = webdriver.Chrome(options = options,executable_path=r'H:\\UCD BA\\Capstone\\chromedriver.exe')"
   ]
  },
  {
   "cell_type": "code",
   "execution_count": 15,
   "metadata": {
    "collapsed": false,
    "jupyter": {
     "outputs_hidden": false
    }
   },
   "outputs": [],
   "source": [
    "driver.get('https://www.daft.ie/price-register/?min_price=25000&max_price=5000000&pagenum=1')"
   ]
  },
  {
   "cell_type": "code",
   "execution_count": 16,
   "metadata": {
    "collapsed": false,
    "jupyter": {
     "outputs_hidden": false
    },
    "scrolled": true
   },
   "outputs": [],
   "source": [
    "i=0\n",
    "addr = []\n",
    "price = []\n",
    "\n",
    "while True:\n",
    "    try:\n",
    "        driver.get('https://www.daft.ie/price-register/?min_price=25000&max_price=5000000&pagenum=%s' % str(i+1))\n",
    "        driver.find_element_by_class_name('activePage').click()\n",
    "        i+=1\n",
    "        time.sleep(5)\n",
    "        add = driver.find_elements_by_class_name(\"priceregister-address\")\n",
    "        for n in add:\n",
    "            addr.append(n.text)\n",
    "        #ddr= [n.text for n in add]\n",
    "        pr =driver.find_elements_by_xpath('//*[contains(concat( \" \", @class, \" \" ), concat( \" \", \"priceregister-dwelling-details\", \" \" ))]')\n",
    "        for m in pr:\n",
    "            price.append(m.text)\n",
    "        pages=driver.find_element_by_class_name('paging')\n",
    "        \n",
    "        if 'No Record Found' in pages.text:\n",
    "                break\n",
    "    except (NoSuchElementException, WebDriverException) as e:\n",
    "        break\n",
    "        "
   ]
  },
  {
   "cell_type": "code",
   "execution_count": null,
   "metadata": {
    "collapsed": true,
    "jupyter": {
     "outputs_hidden": true
    }
   },
   "outputs": [],
   "source": []
  },
  {
   "cell_type": "code",
   "execution_count": 17,
   "metadata": {
    "collapsed": false,
    "jupyter": {
     "outputs_hidden": false
    }
   },
   "outputs": [
    {
     "name": "stdout",
     "output_type": "stream",
     "text": [
      "the total number of pages is  1895\n"
     ]
    }
   ],
   "source": [
    "print('the total number of pages is ', i)"
   ]
  },
  {
   "cell_type": "code",
   "execution_count": 18,
   "metadata": {
    "collapsed": false,
    "jupyter": {
     "outputs_hidden": false
    }
   },
   "outputs": [
    {
     "name": "stdout",
     "output_type": "stream",
     "text": [
      "                                                 Address  \\\n",
      "0      4 Carthages House, Carthages Avenue, Waterford...   \n",
      "1      3 Carthages House, Carthages Avenue, Waterford...   \n",
      "2                  1 Richmond, Templemore, Co. Tipperary   \n",
      "3             Dreenane, Derrinturn, Carbury, Co. Kildare   \n",
      "4      16 Larkfield Way, Ballyogan Road, Leopardstown...   \n",
      "...                                                  ...   \n",
      "47370           5 The Terrace, Scilly, Kinsale, Co. Cork   \n",
      "47371  53 Red Arches Avenue, Silverbanks, The Coast, ...   \n",
      "47372         57 Rockboro Heights, Carrigaline, Co. Cork   \n",
      "47373       Deerpark, Limerick Rd, Charleville, Co. Cork   \n",
      "47374  Summerville, Summerhill North, Caheragh, Carri...   \n",
      "\n",
      "                                                   Price  \n",
      "0      €77,000 | 12/10/18 | Second-Hand Dwelling Hous...  \n",
      "1      €91,000 | 12/10/18 | Second-Hand Dwelling Hous...  \n",
      "2      €130,000 | 12/10/18 | Second-Hand Dwelling Hou...  \n",
      "3      €80,000 ** | 12/10/18 | Second-Hand Dwelling H...  \n",
      "4      €615,000 | 12/10/18 | New Dwelling House/Apart...  \n",
      "...                                                  ...  \n",
      "47370  €250,000 ** | 27/10/17 | Second-Hand Dwelling ...  \n",
      "47371  €285,000 | 27/10/17 | New Dwelling House/Apart...  \n",
      "47372  €235,000 ** | 27/10/17 | Semi-Detached House |...  \n",
      "47373  €240,000 ** | 27/10/17 | Second-Hand Dwelling ...  \n",
      "47374  €630,000 | 27/10/17 | Second-Hand Dwelling Hou...  \n",
      "\n",
      "[47375 rows x 2 columns]\n"
     ]
    }
   ],
   "source": [
    "df = pd.DataFrame(columns = ['Address','Price']) \n",
    "df['Address'] = addr\n",
    "df['Price']= price\n",
    "print(df)"
   ]
  },
  {
   "cell_type": "code",
   "execution_count": 19,
   "metadata": {
    "collapsed": false,
    "jupyter": {
     "outputs_hidden": false
    }
   },
   "outputs": [],
   "source": [
    "df[['Price','Date of Purchase','Type', 'No of Bedrooms','Number of Bathrooms']] = df.Price.str.split(\"|\",expand=True,)"
   ]
  },
  {
   "cell_type": "code",
   "execution_count": 20,
   "metadata": {
    "collapsed": false,
    "jupyter": {
     "outputs_hidden": false
    }
   },
   "outputs": [],
   "source": [
    "#print(df)"
   ]
  },
  {
   "cell_type": "code",
   "execution_count": 21,
   "metadata": {
    "collapsed": false,
    "jupyter": {
     "outputs_hidden": false
    }
   },
   "outputs": [],
   "source": [
    "df[[\"Address\",\"County\"]] = df.Address.str.split(\"Co. \",n=1,expand = True,)"
   ]
  },
  {
   "cell_type": "code",
   "execution_count": 22,
   "metadata": {
    "collapsed": false,
    "jupyter": {
     "outputs_hidden": false
    }
   },
   "outputs": [
    {
     "name": "stdout",
     "output_type": "stream",
     "text": [
      "                                                 Address         Price  \\\n",
      "0      4 Carthages House, Carthages Avenue, Waterford...      €77,000    \n",
      "1      3 Carthages House, Carthages Avenue, Waterford...      €91,000    \n",
      "2                               1 Richmond, Templemore,      €130,000    \n",
      "3                        Dreenane, Derrinturn, Carbury,    €80,000 **    \n",
      "4       16 Larkfield Way, Ballyogan Road, Leopardstown,      €615,000    \n",
      "...                                                  ...           ...   \n",
      "47370                   5 The Terrace, Scilly, Kinsale,   €250,000 **    \n",
      "47371   53 Red Arches Avenue, Silverbanks, The Coast, ,      €285,000    \n",
      "47372                 57 Rockboro Heights, Carrigaline,   €235,000 **    \n",
      "47373               Deerpark, Limerick Rd, Charleville,   €240,000 **    \n",
      "47374  Summerville, Summerhill North, Caheragh, Carrig,      €630,000    \n",
      "\n",
      "      Date of Purchase                                   Type No of Bedrooms  \\\n",
      "0            12/10/18    Second-Hand Dwelling House/Apartment           None   \n",
      "1            12/10/18    Second-Hand Dwelling House/Apartment           None   \n",
      "2            12/10/18    Second-Hand Dwelling House/Apartment           None   \n",
      "3            12/10/18    Second-Hand Dwelling House/Apartment           None   \n",
      "4            12/10/18            New Dwelling House/Apartment           None   \n",
      "...                ...                                    ...            ...   \n",
      "47370        27/10/17    Second-Hand Dwelling House/Apartment           None   \n",
      "47371        27/10/17            New Dwelling House/Apartment           None   \n",
      "47372        27/10/17                    Semi-Detached House     3 Bedrooms    \n",
      "47373        27/10/17    Second-Hand Dwelling House/Apartment           None   \n",
      "47374        27/10/17    Second-Hand Dwelling House/Apartment           None   \n",
      "\n",
      "      Number of Bathrooms     County  \n",
      "0                    None  Waterford  \n",
      "1                    None  Waterford  \n",
      "2                    None  Tipperary  \n",
      "3                    None    Kildare  \n",
      "4                    None     Dublin  \n",
      "...                   ...        ...  \n",
      "47370                None       Cork  \n",
      "47371                None     Dublin  \n",
      "47372          1 Bathroom       Cork  \n",
      "47373                None       Cork  \n",
      "47374                None       Cork  \n",
      "\n",
      "[47375 rows x 7 columns]\n"
     ]
    }
   ],
   "source": [
    "print(df)"
   ]
  },
  {
   "cell_type": "code",
   "execution_count": 23,
   "metadata": {
    "collapsed": false,
    "jupyter": {
     "outputs_hidden": false
    }
   },
   "outputs": [
    {
     "data": {
      "text/plain": [
       "'bad_chars = [\\'...\\', \"**\"] \\nfor i in bad_chars : \\n    comments = comments.replace(i, \\'\\') \\nprint(comments)'"
      ]
     },
     "execution_count": 23,
     "metadata": {},
     "output_type": "execute_result"
    }
   ],
   "source": [
    "'''bad_chars = ['...', \"**\"] \n",
    "for i in bad_chars : \n",
    "    comments = comments.replace(i, '') \n",
    "print(comments)'''"
   ]
  },
  {
   "cell_type": "code",
   "execution_count": 24,
   "metadata": {
    "collapsed": false,
    "jupyter": {
     "outputs_hidden": false
    }
   },
   "outputs": [],
   "source": [
    "#comments.Price.apply(lambda x: x.replace('*','').)\n"
   ]
  },
  {
   "cell_type": "code",
   "execution_count": 25,
   "metadata": {
    "collapsed": false,
    "jupyter": {
     "outputs_hidden": false
    }
   },
   "outputs": [],
   "source": [
    "df[\"Price\"] = df[\"Price\"].str.replace(\"*\", \"\").str.strip()\n",
    "#print(df)"
   ]
  },
  {
   "cell_type": "code",
   "execution_count": null,
   "metadata": {
    "collapsed": false,
    "jupyter": {
     "outputs_hidden": false
    }
   },
   "outputs": [],
   "source": []
  },
  {
   "cell_type": "code",
   "execution_count": 26,
   "metadata": {
    "collapsed": false,
    "jupyter": {
     "outputs_hidden": false
    }
   },
   "outputs": [],
   "source": [
    "df[\"Address\"] = df[\"Address\"].str.replace(\"(^(\\s*?\\,+)+\\s?)|(^\\s+)|(\\s+$)|((\\s*?\\,+)+\\s?$)\", \"\")\n"
   ]
  },
  {
   "cell_type": "code",
   "execution_count": 27,
   "metadata": {
    "collapsed": false,
    "jupyter": {
     "outputs_hidden": false
    }
   },
   "outputs": [
    {
     "name": "stdout",
     "output_type": "stream",
     "text": [
      "                                                 Address     Price  \\\n",
      "0      4 Carthages House, Carthages Avenue, Waterford...   €77,000   \n",
      "1      3 Carthages House, Carthages Avenue, Waterford...   €91,000   \n",
      "2                                 1 Richmond, Templemore  €130,000   \n",
      "3                          Dreenane, Derrinturn, Carbury   €80,000   \n",
      "4         16 Larkfield Way, Ballyogan Road, Leopardstown  €615,000   \n",
      "...                                                  ...       ...   \n",
      "47370                     5 The Terrace, Scilly, Kinsale  €250,000   \n",
      "47371       53 Red Arches Avenue, Silverbanks, The Coast  €285,000   \n",
      "47372                   57 Rockboro Heights, Carrigaline  €235,000   \n",
      "47373                 Deerpark, Limerick Rd, Charleville  €240,000   \n",
      "47374    Summerville, Summerhill North, Caheragh, Carrig  €630,000   \n",
      "\n",
      "      Date of Purchase                                   Type No of Bedrooms  \\\n",
      "0            12/10/18    Second-Hand Dwelling House/Apartment           None   \n",
      "1            12/10/18    Second-Hand Dwelling House/Apartment           None   \n",
      "2            12/10/18    Second-Hand Dwelling House/Apartment           None   \n",
      "3            12/10/18    Second-Hand Dwelling House/Apartment           None   \n",
      "4            12/10/18            New Dwelling House/Apartment           None   \n",
      "...                ...                                    ...            ...   \n",
      "47370        27/10/17    Second-Hand Dwelling House/Apartment           None   \n",
      "47371        27/10/17            New Dwelling House/Apartment           None   \n",
      "47372        27/10/17                    Semi-Detached House     3 Bedrooms    \n",
      "47373        27/10/17    Second-Hand Dwelling House/Apartment           None   \n",
      "47374        27/10/17    Second-Hand Dwelling House/Apartment           None   \n",
      "\n",
      "      Number of Bathrooms     County  \n",
      "0                    None  Waterford  \n",
      "1                    None  Waterford  \n",
      "2                    None  Tipperary  \n",
      "3                    None    Kildare  \n",
      "4                    None     Dublin  \n",
      "...                   ...        ...  \n",
      "47370                None       Cork  \n",
      "47371                None     Dublin  \n",
      "47372          1 Bathroom       Cork  \n",
      "47373                None       Cork  \n",
      "47374                None       Cork  \n",
      "\n",
      "[47375 rows x 7 columns]\n"
     ]
    }
   ],
   "source": [
    "print(df)"
   ]
  },
  {
   "cell_type": "code",
   "execution_count": 28,
   "metadata": {
    "collapsed": false,
    "jupyter": {
     "outputs_hidden": false
    }
   },
   "outputs": [
    {
     "name": "stdout",
     "output_type": "stream",
     "text": [
      "                                                 Address     Price  \\\n",
      "0      4 Carthages House, Carthages Avenue, Waterford...   €77,000   \n",
      "1      3 Carthages House, Carthages Avenue, Waterford...   €91,000   \n",
      "2                                 1 Richmond, Templemore  €130,000   \n",
      "3                          Dreenane, Derrinturn, Carbury   €80,000   \n",
      "4         16 Larkfield Way, Ballyogan Road, Leopardstown  €615,000   \n",
      "...                                                  ...       ...   \n",
      "47370                     5 The Terrace, Scilly, Kinsale  €250,000   \n",
      "47371       53 Red Arches Avenue, Silverbanks, The Coast  €285,000   \n",
      "47372                   57 Rockboro Heights, Carrigaline  €235,000   \n",
      "47373                 Deerpark, Limerick Rd, Charleville  €240,000   \n",
      "47374    Summerville, Summerhill North, Caheragh, Carrig  €630,000   \n",
      "\n",
      "      Date of Purchase                                   Type No of Bedrooms  \\\n",
      "0           2018-12-10   Second-Hand Dwelling House/Apartment           None   \n",
      "1           2018-12-10   Second-Hand Dwelling House/Apartment           None   \n",
      "2           2018-12-10   Second-Hand Dwelling House/Apartment           None   \n",
      "3           2018-12-10   Second-Hand Dwelling House/Apartment           None   \n",
      "4           2018-12-10           New Dwelling House/Apartment           None   \n",
      "...                ...                                    ...            ...   \n",
      "47370       2017-10-27   Second-Hand Dwelling House/Apartment           None   \n",
      "47371       2017-10-27           New Dwelling House/Apartment           None   \n",
      "47372       2017-10-27                   Semi-Detached House     3 Bedrooms    \n",
      "47373       2017-10-27   Second-Hand Dwelling House/Apartment           None   \n",
      "47374       2017-10-27   Second-Hand Dwelling House/Apartment           None   \n",
      "\n",
      "      Number of Bathrooms     County  \n",
      "0                    None  Waterford  \n",
      "1                    None  Waterford  \n",
      "2                    None  Tipperary  \n",
      "3                    None    Kildare  \n",
      "4                    None     Dublin  \n",
      "...                   ...        ...  \n",
      "47370                None       Cork  \n",
      "47371                None     Dublin  \n",
      "47372          1 Bathroom       Cork  \n",
      "47373                None       Cork  \n",
      "47374                None       Cork  \n",
      "\n",
      "[47375 rows x 7 columns]\n"
     ]
    }
   ],
   "source": [
    "df['Date of Purchase'] = pd.to_datetime(df['Date of Purchase'])\n",
    "print(df)"
   ]
  },
  {
   "cell_type": "raw",
   "metadata": {},
   "source": []
  },
  {
   "cell_type": "code",
   "execution_count": 29,
   "metadata": {
    "collapsed": true,
    "jupyter": {
     "outputs_hidden": true
    }
   },
   "outputs": [],
   "source": [
    "df.to_csv('output.csv')"
   ]
  },
  {
   "cell_type": "code",
   "execution_count": 108,
   "metadata": {
    "collapsed": false,
    "jupyter": {
     "outputs_hidden": false
    }
   },
   "outputs": [
    {
     "ename": "SyntaxError",
     "evalue": "invalid syntax (<ipython-input-108-233a3dfe1397>, line 1)",
     "output_type": "error",
     "traceback": [
      "\u001b[0;36m  File \u001b[0;32m\"<ipython-input-108-233a3dfe1397>\"\u001b[0;36m, line \u001b[0;32m1\u001b[0m\n\u001b[0;31m    String str = \"kushalhs, mayurvm, narendrabz, \";\u001b[0m\n\u001b[0m             ^\u001b[0m\n\u001b[0;31mSyntaxError\u001b[0m\u001b[0;31m:\u001b[0m invalid syntax\n"
     ]
    }
   ],
   "source": [
    "\n"
   ]
  },
  {
   "cell_type": "code",
   "execution_count": null,
   "metadata": {
    "collapsed": true,
    "jupyter": {
     "outputs_hidden": true
    }
   },
   "outputs": [],
   "source": []
  },
  {
   "cell_type": "code",
   "execution_count": null,
   "metadata": {
    "collapsed": true,
    "jupyter": {
     "outputs_hidden": true
    }
   },
   "outputs": [],
   "source": [
    "'''str = str.replaceAll(\", $\", \"\");\n",
    "(^(\\s*?\\,+)+\\s?)|(^\\s+)|(\\s+$)|((\\s*?\\,+)+\\s?$)\n",
    "ambassadorName.replace(/,(?=[^,]*$)/, ' and')'''"
   ]
  }
 ],
 "metadata": {
  "kernelspec": {
   "display_name": "Python 3",
   "language": "python",
   "name": "python3"
  },
  "language_info": {
   "codemirror_mode": {
    "name": "ipython",
    "version": 3
   },
   "file_extension": ".py",
   "mimetype": "text/x-python",
   "name": "python",
   "nbconvert_exporter": "python",
   "pygments_lexer": "ipython3",
   "version": "3.6.8"
  }
 },
 "nbformat": 4,
 "nbformat_minor": 4
}
